{
 "cells": [
  {
   "cell_type": "code",
   "execution_count": 1,
   "metadata": {
    "collapsed": true
   },
   "outputs": [],
   "source": [
    "import pandas as pd\n",
    "import numpy as np\n",
    "from random import sample"
   ]
  },
  {
   "cell_type": "code",
   "execution_count": 2,
   "metadata": {},
   "outputs": [],
   "source": [
    "# Load Data and split Train/Test\n",
    "\n",
    "df = pd.read_csv('data/iris.data', names=['sepal-len', 'sepal-width', 'petal-len', 'petal-width', 'class'])\n",
    "\n",
    "train_ratio = 0.6\n",
    "\n",
    "train_rows_indices = sample(list(range(len(df))), int(train_ratio*len(df)))\n",
    "test_rows_indices = list()\n",
    "for i in range(len(df)):\n",
    "    if i not in train_rows_indices:\n",
    "        test_rows_indices.append(i)\n",
    "\n",
    "train_df = df.iloc[train_rows_indices]\n",
    "test_df = df.iloc[test_rows_indices]\n",
    "\n"
   ]
  },
  {
   "cell_type": "code",
   "execution_count": 3,
   "metadata": {},
   "outputs": [
    {
     "name": "stdout",
     "output_type": "stream",
     "text": [
      "     sepal-len  sepal-width  petal-len  petal-width            class\n",
      "89         5.5          2.5        4.0          1.3  Iris-versicolor\n",
      "68         6.2          2.2        4.5          1.5  Iris-versicolor\n",
      "28         5.2          3.4        1.4          0.2      Iris-setosa\n",
      "94         5.6          2.7        4.2          1.3  Iris-versicolor\n",
      "125        7.2          3.2        6.0          1.8   Iris-virginica\n",
      "______________\n",
      "    sepal-len  sepal-width  petal-len  petal-width        class\n",
      "3         4.6          3.1        1.5          0.2  Iris-setosa\n",
      "4         5.0          3.6        1.4          0.2  Iris-setosa\n",
      "5         5.4          3.9        1.7          0.4  Iris-setosa\n",
      "6         4.6          3.4        1.4          0.3  Iris-setosa\n",
      "14        5.8          4.0        1.2          0.2  Iris-setosa\n"
     ]
    }
   ],
   "source": [
    "print(train_df.head())\n",
    "print(\"______________\")\n",
    "print(test_df.head())"
   ]
  },
  {
   "cell_type": "code",
   "execution_count": 4,
   "metadata": {},
   "outputs": [],
   "source": [
    "# Calculate the Euclidean Distance\n",
    "\n",
    "def euclidean_distance(vector1, vector2):\n",
    "    ret = ((vector1 - vector2)**2).sum()\n",
    "    return np.sqrt(ret)\n"
   ]
  },
  {
   "cell_type": "code",
   "execution_count": 5,
   "metadata": {},
   "outputs": [
    {
     "name": "stdout",
     "output_type": "stream",
     "text": [
      "Score = 0.9666666666666667\n"
     ]
    }
   ],
   "source": [
    "# Predict\n",
    "k = 3\n",
    "nbr_errors = 0\n",
    "\n",
    "for i, test_row in test_df.iterrows():\n",
    "    distances = {} # dict row_index => distance\n",
    "    for j, train_row in train_df.iterrows():\n",
    "        if i != j:\n",
    "            d = euclidean_distance(test_row[:-1], train_row[:-1])\n",
    "            distances[j] = d\n",
    "    # get the k nearest points based on sorted distances\n",
    "    k_nearest = sorted(distances.items(), key=lambda x: x[1])[:k] # returns a list of k tuples (index, distance)\n",
    "    count_classes = {} # dict class => nbr_neighbours\n",
    "    for e in k_nearest:\n",
    "        c = train_df.loc[e[0]]['class']\n",
    "        try:\n",
    "            count_classes[c] += 1\n",
    "        except:\n",
    "            count_classes[c] = 1\n",
    "    tmp = sorted(count_classes.items(), key=lambda x: x[1])\n",
    "    tmp.reverse()\n",
    "    #print(tmp)\n",
    "    predicted_class = tmp[0][0]\n",
    "    correct_class = test_row['class']\n",
    "    if predicted_class != correct_class:\n",
    "        nbr_errors += 1\n",
    "\n",
    "print(f\"Score = {1-(nbr_errors/len(test_df))}\")"
   ]
  },
  {
   "cell_type": "code",
   "execution_count": null,
   "metadata": {
    "collapsed": true
   },
   "outputs": [],
   "source": []
  },
  {
   "cell_type": "code",
   "execution_count": null,
   "metadata": {
    "collapsed": true
   },
   "outputs": [],
   "source": []
  }
 ],
 "metadata": {
  "kernelspec": {
   "display_name": "Python 3",
   "language": "python",
   "name": "python3"
  },
  "language_info": {
   "codemirror_mode": {
    "name": "ipython",
    "version": 3
   },
   "file_extension": ".py",
   "mimetype": "text/x-python",
   "name": "python",
   "nbconvert_exporter": "python",
   "pygments_lexer": "ipython3",
   "version": "3.6.1"
  }
 },
 "nbformat": 4,
 "nbformat_minor": 2
}
