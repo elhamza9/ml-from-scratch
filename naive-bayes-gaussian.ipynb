{
 "cells": [
  {
   "cell_type": "markdown",
   "metadata": {},
   "source": [
    "# Naive Bayes Classification Concept\n",
    "\n",
    "- Naive Bayes Classification is based on the Naive Bayes Theorem :\n",
    "\n",
    "$$  P(\\textbf{Class}|\\textbf{Features}) = \\frac{P(\\textbf{Features} | \\textbf{Class}) P(\\textbf{Class})}{P(\\textbf{Features})} $$\n",
    "\n",
    "- When predicting the class we choose the class with highest probability\n",
    "\n",
    "$$  \\textbf{arg max}(\\textbf{Class})  P(\\textbf{Class}|\\textbf{Features}) = \\frac{P(\\textbf{Features} | \\textbf{Class}) P(\\textbf{Class})}{P(\\textbf{Features})} $$\n",
    "\n",
    "- We can ignore the denominator : $ P(\\textbf{Features}) $ because it's the same for all classes. We are left with : \n",
    "\n",
    "$$  \\textbf{arg max}(\\textbf{Class}) P(\\textbf{Class}|\\textbf{Features}) = P(\\textbf{Features} | \\textbf{Class}) P(\\textbf{Class}) $$"
   ]
  },
  {
   "cell_type": "markdown",
   "metadata": {},
   "source": [
    "## Gaussian NB\n",
    "\n",
    "- To calculate $ P(\\textbf{Features}/\\textbf{Class})$ we use assume that the features have a Normal/Gaussian Distribution. Thus, we calculate their probabilities using the Gaussian Probability Formula :\n",
    "<h3>\n",
    "$$\n",
    "P(\\textbf{f1 = x}/\\textbf{Class = C1}) = {\\frac {1}{\\sqrt {2\\pi \\cdot \\sigma ^{2}}}}e^{-\\large{{\\frac {(x-\\mu(f1,C1) )^{2}}{2 \\cdot \\sigma(f1,C1) ^{2}}}}}\n",
    "$$\n",
    "</h3>\n",
    "\n",
    "- We generally use Gaussian NB when features are real numbers\n",
    "- For the training, we need to Calculate Means ($ \\mu $) and Standard Deviations ($ \\sigma $) for each Feature for each Class\n",
    "- And of course calculate Class Priors $ P(\\textbf{Class}) $"
   ]
  },
  {
   "cell_type": "markdown",
   "metadata": {},
   "source": [
    "# Imports"
   ]
  },
  {
   "cell_type": "code",
   "execution_count": 1,
   "metadata": {
    "collapsed": true
   },
   "outputs": [],
   "source": [
    "import pandas as pd\n",
    "import numpy as np\n",
    "from math import sqrt, exp, pi"
   ]
  },
  {
   "cell_type": "markdown",
   "metadata": {},
   "source": [
    "# Dataset \"Spambase\""
   ]
  },
  {
   "cell_type": "markdown",
   "metadata": {},
   "source": [
    "The dataset used is \"Spambase\" from the following link: https://archive.ics.uci.edu/ml/datasets/spambase\n",
    "\n",
    "Here is small description from the link above:\n",
    "> Attribute Information:\n",
    "\n",
    "> The last column of 'spambase.data' denotes whether the e-mail was considered spam (1) or not (0), i.e. unsolicited commercial e-mail. Most of the attributes indicate whether a particular word or character was frequently occuring in the e-mail. The run-length attributes (55-57) measure the length of sequences of consecutive capital letters. For the statistical measures of each attribute, see the end of this file. Here are the definitions of the attributes:\n",
    "\n",
    "> 48 continuous real [0,100] attributes of type word_freq_WORD\n",
    "= percentage of words in the e-mail that match WORD, i.e. 100 * (number of times the WORD appears in the e-mail) / total number of words in e-mail. A \"word\" in this case is any string of alphanumeric characters bounded by non-alphanumeric characters or end-of-string.\n",
    "\n",
    "> 6 continuous real [0,100] attributes of type char_freq_CHAR]\n",
    "= percentage of characters in the e-mail that match CHAR, i.e. 100 * (number of CHAR occurences) / total characters in e-mail\n",
    "\n",
    "> 1 continuous real [1,...] attribute of type capital_run_length_average\n",
    "= average length of uninterrupted sequences of capital letters\n",
    "\n",
    "> 1 continuous integer [1,...] attribute of type capital_run_length_longest\n",
    "= length of longest uninterrupted sequence of capital letters\n",
    "\n",
    "> 1 continuous integer [1,...] attribute of type capital_run_length_total\n",
    "= sum of length of uninterrupted sequences of capital letters\n",
    "= total number of capital letters in the e-mail\n",
    "\n",
    "> 1 nominal {0,1} class attribute of type spam\n",
    "= denotes whether the e-mail was considered spam (1) or not (0), i.e. unsolicited commercial e-mail. "
   ]
  },
  {
   "cell_type": "markdown",
   "metadata": {},
   "source": [
    "## Load Data"
   ]
  },
  {
   "cell_type": "code",
   "execution_count": 2,
   "metadata": {},
   "outputs": [
    {
     "data": {
      "text/html": [
       "<div>\n",
       "<style>\n",
       "    .dataframe thead tr:only-child th {\n",
       "        text-align: right;\n",
       "    }\n",
       "\n",
       "    .dataframe thead th {\n",
       "        text-align: left;\n",
       "    }\n",
       "\n",
       "    .dataframe tbody tr th {\n",
       "        vertical-align: top;\n",
       "    }\n",
       "</style>\n",
       "<table border=\"1\" class=\"dataframe\">\n",
       "  <thead>\n",
       "    <tr style=\"text-align: right;\">\n",
       "      <th></th>\n",
       "      <th>1</th>\n",
       "      <th>2</th>\n",
       "      <th>3</th>\n",
       "      <th>4</th>\n",
       "      <th>5</th>\n",
       "      <th>6</th>\n",
       "      <th>7</th>\n",
       "      <th>8</th>\n",
       "      <th>9</th>\n",
       "      <th>10</th>\n",
       "      <th>...</th>\n",
       "      <th>40</th>\n",
       "      <th>41</th>\n",
       "      <th>42</th>\n",
       "      <th>43</th>\n",
       "      <th>44</th>\n",
       "      <th>45</th>\n",
       "      <th>46</th>\n",
       "      <th>47</th>\n",
       "      <th>48</th>\n",
       "      <th>class</th>\n",
       "    </tr>\n",
       "  </thead>\n",
       "  <tbody>\n",
       "    <tr>\n",
       "      <th>0</th>\n",
       "      <td>0.00</td>\n",
       "      <td>0.64</td>\n",
       "      <td>0.64</td>\n",
       "      <td>0.0</td>\n",
       "      <td>0.32</td>\n",
       "      <td>0.00</td>\n",
       "      <td>0.00</td>\n",
       "      <td>0.00</td>\n",
       "      <td>0.00</td>\n",
       "      <td>0.00</td>\n",
       "      <td>...</td>\n",
       "      <td>0.00</td>\n",
       "      <td>0.0</td>\n",
       "      <td>0.0</td>\n",
       "      <td>0.00</td>\n",
       "      <td>0.0</td>\n",
       "      <td>0.00</td>\n",
       "      <td>0.00</td>\n",
       "      <td>0.0</td>\n",
       "      <td>0.0</td>\n",
       "      <td>1</td>\n",
       "    </tr>\n",
       "    <tr>\n",
       "      <th>1</th>\n",
       "      <td>0.21</td>\n",
       "      <td>0.28</td>\n",
       "      <td>0.50</td>\n",
       "      <td>0.0</td>\n",
       "      <td>0.14</td>\n",
       "      <td>0.28</td>\n",
       "      <td>0.21</td>\n",
       "      <td>0.07</td>\n",
       "      <td>0.00</td>\n",
       "      <td>0.94</td>\n",
       "      <td>...</td>\n",
       "      <td>0.00</td>\n",
       "      <td>0.0</td>\n",
       "      <td>0.0</td>\n",
       "      <td>0.00</td>\n",
       "      <td>0.0</td>\n",
       "      <td>0.00</td>\n",
       "      <td>0.00</td>\n",
       "      <td>0.0</td>\n",
       "      <td>0.0</td>\n",
       "      <td>1</td>\n",
       "    </tr>\n",
       "    <tr>\n",
       "      <th>2</th>\n",
       "      <td>0.06</td>\n",
       "      <td>0.00</td>\n",
       "      <td>0.71</td>\n",
       "      <td>0.0</td>\n",
       "      <td>1.23</td>\n",
       "      <td>0.19</td>\n",
       "      <td>0.19</td>\n",
       "      <td>0.12</td>\n",
       "      <td>0.64</td>\n",
       "      <td>0.25</td>\n",
       "      <td>...</td>\n",
       "      <td>0.06</td>\n",
       "      <td>0.0</td>\n",
       "      <td>0.0</td>\n",
       "      <td>0.12</td>\n",
       "      <td>0.0</td>\n",
       "      <td>0.06</td>\n",
       "      <td>0.06</td>\n",
       "      <td>0.0</td>\n",
       "      <td>0.0</td>\n",
       "      <td>1</td>\n",
       "    </tr>\n",
       "    <tr>\n",
       "      <th>3</th>\n",
       "      <td>0.00</td>\n",
       "      <td>0.00</td>\n",
       "      <td>0.00</td>\n",
       "      <td>0.0</td>\n",
       "      <td>0.63</td>\n",
       "      <td>0.00</td>\n",
       "      <td>0.31</td>\n",
       "      <td>0.63</td>\n",
       "      <td>0.31</td>\n",
       "      <td>0.63</td>\n",
       "      <td>...</td>\n",
       "      <td>0.00</td>\n",
       "      <td>0.0</td>\n",
       "      <td>0.0</td>\n",
       "      <td>0.00</td>\n",
       "      <td>0.0</td>\n",
       "      <td>0.00</td>\n",
       "      <td>0.00</td>\n",
       "      <td>0.0</td>\n",
       "      <td>0.0</td>\n",
       "      <td>1</td>\n",
       "    </tr>\n",
       "    <tr>\n",
       "      <th>4</th>\n",
       "      <td>0.00</td>\n",
       "      <td>0.00</td>\n",
       "      <td>0.00</td>\n",
       "      <td>0.0</td>\n",
       "      <td>0.63</td>\n",
       "      <td>0.00</td>\n",
       "      <td>0.31</td>\n",
       "      <td>0.63</td>\n",
       "      <td>0.31</td>\n",
       "      <td>0.63</td>\n",
       "      <td>...</td>\n",
       "      <td>0.00</td>\n",
       "      <td>0.0</td>\n",
       "      <td>0.0</td>\n",
       "      <td>0.00</td>\n",
       "      <td>0.0</td>\n",
       "      <td>0.00</td>\n",
       "      <td>0.00</td>\n",
       "      <td>0.0</td>\n",
       "      <td>0.0</td>\n",
       "      <td>1</td>\n",
       "    </tr>\n",
       "  </tbody>\n",
       "</table>\n",
       "<p>5 rows × 49 columns</p>\n",
       "</div>"
      ],
      "text/plain": [
       "      1     2     3    4     5     6     7     8     9    10  ...      40  \\\n",
       "0  0.00  0.64  0.64  0.0  0.32  0.00  0.00  0.00  0.00  0.00  ...    0.00   \n",
       "1  0.21  0.28  0.50  0.0  0.14  0.28  0.21  0.07  0.00  0.94  ...    0.00   \n",
       "2  0.06  0.00  0.71  0.0  1.23  0.19  0.19  0.12  0.64  0.25  ...    0.06   \n",
       "3  0.00  0.00  0.00  0.0  0.63  0.00  0.31  0.63  0.31  0.63  ...    0.00   \n",
       "4  0.00  0.00  0.00  0.0  0.63  0.00  0.31  0.63  0.31  0.63  ...    0.00   \n",
       "\n",
       "    41   42    43   44    45    46   47   48  class  \n",
       "0  0.0  0.0  0.00  0.0  0.00  0.00  0.0  0.0      1  \n",
       "1  0.0  0.0  0.00  0.0  0.00  0.00  0.0  0.0      1  \n",
       "2  0.0  0.0  0.12  0.0  0.06  0.06  0.0  0.0      1  \n",
       "3  0.0  0.0  0.00  0.0  0.00  0.00  0.0  0.0      1  \n",
       "4  0.0  0.0  0.00  0.0  0.00  0.00  0.0  0.0      1  \n",
       "\n",
       "[5 rows x 49 columns]"
      ]
     },
     "execution_count": 2,
     "metadata": {},
     "output_type": "execute_result"
    }
   ],
   "source": [
    "# Load Data\n",
    "\n",
    "df = pd.read_csv('./data/spambase.csv', header=None)\n",
    "X = df.iloc[:,:48]\n",
    "Y = df.iloc[:, 57]\n",
    "X.columns = list(range(1,49))\n",
    "df = X\n",
    "df['class'] = Y\n",
    "df.head()"
   ]
  },
  {
   "cell_type": "markdown",
   "metadata": {},
   "source": [
    "## Split Train and Test"
   ]
  },
  {
   "cell_type": "code",
   "execution_count": 3,
   "metadata": {},
   "outputs": [
    {
     "name": "stdout",
     "output_type": "stream",
     "text": [
      "4501 100\n"
     ]
    },
    {
     "data": {
      "text/plain": [
       "0.0"
      ]
     },
     "execution_count": 3,
     "metadata": {},
     "output_type": "execute_result"
    }
   ],
   "source": [
    "# Split Train and Test\n",
    "nbr_test_rows = 100\n",
    "\n",
    "train_df = df.iloc [:-nbr_test_rows,]\n",
    "test_df = df.iloc [-nbr_test_rows:,]\n",
    "\n",
    "nbr_train_rows = len(train_df)\n",
    "print(nbr_train_rows, nbr_test_rows)\n",
    "test_df.loc[4501]['class']"
   ]
  },
  {
   "cell_type": "markdown",
   "metadata": {},
   "source": [
    "## Calculate Class Priors, Means and Standard Deviations"
   ]
  },
  {
   "cell_type": "code",
   "execution_count": 4,
   "metadata": {},
   "outputs": [
    {
     "name": "stdout",
     "output_type": "stream",
     "text": [
      "{0: 0.59720062208398139, 1: 0.40279937791601866}\n"
     ]
    }
   ],
   "source": [
    "# Calculate Priors\n",
    "\n",
    "class_priors = {}\n",
    "nbr_elements_in_classes = train_df['class'].value_counts()\n",
    "all_classes = list(nbr_elements_in_classes.keys())\n",
    "\n",
    "for c in all_classes:\n",
    "    class_priors[c] = nbr_elements_in_classes[c] / nbr_train_rows\n",
    "\n",
    "print (class_priors)"
   ]
  },
  {
   "cell_type": "code",
   "execution_count": 5,
   "metadata": {
    "collapsed": true
   },
   "outputs": [],
   "source": [
    "# Calculate Means, Standard Deviations\n",
    "\n",
    "mean_features = {}  # dict { f1 => { c1: mean, c2: mean}, f2 => { c1: mean, c2: mean}, ... }\n",
    "sd_features = {}\n",
    "\n",
    "for f in range(1,49):\n",
    "    mean_features[f] = {}\n",
    "    sd_features[f] = {}\n",
    "    for c in all_classes:\n",
    "        feature_values = train_df[train_df['class'] == c].loc[:, f]\n",
    "        mean_f_c = feature_values.sum() / len(feature_values)\n",
    "        mean_features[f][c] = mean_f_c\n",
    "        sd_f_c = np.sqrt( ((feature_values - mean_f_c)**2).sum()/(len(feature_values)) )\n",
    "        sd_features[f][c] = sd_f_c\n"
   ]
  },
  {
   "cell_type": "markdown",
   "metadata": {},
   "source": [
    "## Calculate Likelyhood (Gaussian Probability)"
   ]
  },
  {
   "cell_type": "code",
   "execution_count": 6,
   "metadata": {
    "collapsed": true
   },
   "outputs": [],
   "source": [
    "# Gaussian Probability Calculation\n",
    "\n",
    "def gaussian(f_index, f_value, c):\n",
    "    mean = mean_features[f_index][c]\n",
    "    sd = sd_features[f_index][c]\n",
    "    variance = sd**2 \n",
    "    ret =  ( 1/np.sqrt(2*np.pi*variance) ) * ( np.exp( - ( ((f_value-mean)**2)/(2*variance) ) ) )\n",
    "    #print('Gaussian ', mean, sd, f_value, ret)\n",
    "    return ret\n"
   ]
  },
  {
   "cell_type": "markdown",
   "metadata": {},
   "source": [
    "## Predict"
   ]
  },
  {
   "cell_type": "code",
   "execution_count": 7,
   "metadata": {
    "collapsed": true
   },
   "outputs": [],
   "source": [
    "# Predict\n",
    "\n",
    "def predict(f_vector):\n",
    "    ret = {} # dict { c1 : Prob, c2: Prob, ... }\n",
    "    for c in all_classes:\n",
    "        pr = 1\n",
    "        f_index = 1\n",
    "        for f_value in f_vector:\n",
    "            g = gaussian(f_index, f_value, c)\n",
    "            pr *= g\n",
    "            f_index += 1\n",
    "        pr *= class_priors[c]\n",
    "        ret[c] = pr\n",
    "    return ret\n"
   ]
  },
  {
   "cell_type": "markdown",
   "metadata": {},
   "source": [
    "## Score"
   ]
  },
  {
   "cell_type": "code",
   "execution_count": 8,
   "metadata": {},
   "outputs": [
    {
     "name": "stdout",
     "output_type": "stream",
     "text": [
      "Score:  0.61\n"
     ]
    }
   ],
   "source": [
    "# Score\n",
    "\n",
    "nbr_errors = 0\n",
    "\n",
    "for i, row in test_df.iterrows():\n",
    "    f_vector = row[:-1]\n",
    "    correct_class = row['class']\n",
    "    \n",
    "    predictions = predict(f_vector)\n",
    "    predictions = max(predictions.items(), key= lambda x: x[1])\n",
    "    predicted_class = predictions[0]\n",
    "    \n",
    "    if correct_class != predicted_class:\n",
    "        nbr_errors +=1\n",
    "\n",
    "score = 1-(nbr_errors/len(test_df))\n",
    "print(\"Score: \", score)"
   ]
  }
 ],
 "metadata": {
  "kernelspec": {
   "display_name": "Python 3",
   "language": "python",
   "name": "python3"
  },
  "language_info": {
   "codemirror_mode": {
    "name": "ipython",
    "version": 3
   },
   "file_extension": ".py",
   "mimetype": "text/x-python",
   "name": "python",
   "nbconvert_exporter": "python",
   "pygments_lexer": "ipython3",
   "version": "3.6.1"
  }
 },
 "nbformat": 4,
 "nbformat_minor": 2
}
